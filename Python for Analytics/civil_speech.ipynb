{
 "cells": [
  {
   "cell_type": "code",
   "execution_count": 8,
   "metadata": {},
   "outputs": [
    {
     "name": "stdout",
     "output_type": "stream",
     "text": [
      "THE GETTYSBURG ADDRESS:\n",
      "\n",
      "Four score and seven years ago our fathers brought forth on this\n",
      "continent a new nation, conceived in liberty and dedicated to the\n",
      "proposition that all men are created equal. Now we are engaged in\n",
      "a great civil war, testing whether that nation or any nation so\n",
      "conceived and so dedicated can long endure. We are met on a great\n",
      "battlefield of that war. We have come to dedicate a portion of\n",
      "that field as a final resting-place for those who here gave their\n",
      "lives that that nation might live. It is altogether fitting and\n",
      "proper that we should do this. But in a larger sense, we cannot\n",
      "dedicate, we cannot consecrate, we cannot hallow this ground.\n",
      "The brave men, living and dead who struggled here have consecrated\n",
      "it far above our poor power to add or detract. The world will\n",
      "little note nor long remember what we say here, but it can never\n",
      "forget what they did here. It is for us the living rather to be\n",
      "dedicated here to the unfinished work which they who fought here\n",
      "have thus far so nobly advanced. It is rather for us to be here\n",
      "dedicated to the great task remaining before us--that from these\n",
      "honored dead we take increased devotion to that cause for which\n",
      "they gave the last full measure of devotion--that we here highly\n",
      "resolve that these dead shall not have died in vain, that this\n",
      "nation under God shall have a new birth of freedom, and that\n",
      "government of the people, by the people, for the people shall\n",
      "not perish from the earth.\n"
     ]
    }
   ],
   "source": [
    "try:\n",
    "    with open (\"gettysburg.txt\") as f:\n",
    "        text = f.read()\n",
    "except FileNotFoundError:\n",
    "    text = None\n",
    "\n",
    "print(text)\n",
    "\n",
    "f.close()\n",
    "\n",
    "pass"
   ]
  }
 ],
 "metadata": {
  "kernelspec": {
   "display_name": "Python 3",
   "language": "python",
   "name": "python3"
  },
  "language_info": {
   "codemirror_mode": {
    "name": "ipython",
    "version": 3
   },
   "file_extension": ".py",
   "mimetype": "text/x-python",
   "name": "python",
   "nbconvert_exporter": "python",
   "pygments_lexer": "ipython3",
   "version": "3.10.7 (v3.10.7:6cc6b13308, Sep  5 2022, 14:02:52) [Clang 13.0.0 (clang-1300.0.29.30)]"
  },
  "orig_nbformat": 4,
  "vscode": {
   "interpreter": {
    "hash": "aee8b7b246df8f9039afb4144a1f6fd8d2ca17a180786b69acc140d282b71a49"
   }
  }
 },
 "nbformat": 4,
 "nbformat_minor": 2
}
