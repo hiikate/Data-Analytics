{
 "cells": [
  {
   "cell_type": "code",
   "execution_count": 1,
   "metadata": {},
   "outputs": [],
   "source": [
    "# Pet Class\n",
    "\n",
    "class Pet:\n",
    "    pass\n",
    "\n",
    "# class attributes\n",
    "animals = 'pet'"
   ]
  },
  {
   "cell_type": "code",
   "execution_count": 2,
   "metadata": {},
   "outputs": [
    {
     "ename": "TypeError",
     "evalue": "Pet() takes no arguments",
     "output_type": "error",
     "traceback": [
      "\u001b[0;31m---------------------------------------------------------------------------\u001b[0m",
      "\u001b[0;31mTypeError\u001b[0m                                 Traceback (most recent call last)",
      "Cell \u001b[0;32mIn [2], line 8\u001b[0m\n\u001b[1;32m      5\u001b[0m     \u001b[39mself\u001b[39m\u001b[39m.\u001b[39mage \u001b[39m=\u001b[39m age\n\u001b[1;32m      7\u001b[0m \u001b[39m# instantiate the pet object\u001b[39;00m\n\u001b[0;32m----> 8\u001b[0m p1 \u001b[39m=\u001b[39m Pet(\u001b[39m\"\u001b[39m\u001b[39mFastie\u001b[39m\u001b[39m\"\u001b[39m, \u001b[39m\"\u001b[39m\u001b[39mDog\u001b[39m\u001b[39m\"\u001b[39m, \u001b[39m8\u001b[39m)\n\u001b[1;32m      9\u001b[0m p2 \u001b[39m=\u001b[39m Pet(\u001b[39m\"\u001b[39m\u001b[39mLily\u001b[39m\u001b[39m\"\u001b[39m, \u001b[39m\"\u001b[39m\u001b[39mCat\u001b[39m\u001b[39m\"\u001b[39m, \u001b[39m10\u001b[39m)\n\u001b[1;32m     10\u001b[0m p3 \u001b[39m=\u001b[39m Pet(\u001b[39m\"\u001b[39m\u001b[39mBlue\u001b[39m\u001b[39m\"\u001b[39m, \u001b[39m\"\u001b[39m\u001b[39mBird\u001b[39m\u001b[39m\"\u001b[39m, \u001b[39m5\u001b[39m)\n",
      "\u001b[0;31mTypeError\u001b[0m: Pet() takes no arguments"
     ]
    }
   ],
   "source": [
    "# initializer\n",
    "def __init__(self,name, animal_type, age):\n",
    "    self.name = name\n",
    "    self.animal_type = animal_type\n",
    "    self.age = age\n",
    "\n",
    "# instantiate the pet object\n",
    "p1 = Pet(\"Fastie\", \"Dog\", 8)\n",
    "p2 = Pet(\"Lily\", \"Cat\", 10)\n",
    "p3 = Pet(\"Blue\", \"Bird\", 5)"
   ]
  },
  {
   "cell_type": "code",
   "execution_count": null,
   "metadata": {},
   "outputs": [],
   "source": []
  },
  {
   "cell_type": "code",
   "execution_count": null,
   "metadata": {},
   "outputs": [],
   "source": [
    "print(p1.name, \"is a\", p1.animal_type, \"its\", p1.age,\"years old\")"
   ]
  }
 ],
 "metadata": {
  "kernelspec": {
   "display_name": "Python 3",
   "language": "python",
   "name": "python3"
  },
  "language_info": {
   "codemirror_mode": {
    "name": "ipython",
    "version": 3
   },
   "file_extension": ".py",
   "mimetype": "text/x-python",
   "name": "python",
   "nbconvert_exporter": "python",
   "pygments_lexer": "ipython3",
   "version": "3.10.7"
  },
  "orig_nbformat": 4,
  "vscode": {
   "interpreter": {
    "hash": "aee8b7b246df8f9039afb4144a1f6fd8d2ca17a180786b69acc140d282b71a49"
   }
  }
 },
 "nbformat": 4,
 "nbformat_minor": 2
}
