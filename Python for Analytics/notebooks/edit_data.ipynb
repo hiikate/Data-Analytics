{
 "cells": [
  {
   "cell_type": "markdown",
   "metadata": {},
   "source": [
    "A program that asks a person their age. Accept an int. Use a custom exception to return a message if the number entered is an int that is less than 1 or greater than 115. Create an exception that catches an error if a non int is entered. "
   ]
  },
  {
   "cell_type": "code",
   "execution_count": 31,
   "metadata": {},
   "outputs": [
    {
     "ename": "ValueError",
     "evalue": "invalid literal for int() with base 10: ''",
     "output_type": "error",
     "traceback": [
      "\u001b[0;31m---------------------------------------------------------------------------\u001b[0m",
      "\u001b[0;31mValueError\u001b[0m                                Traceback (most recent call last)",
      "Cell \u001b[0;32mIn [31], line 13\u001b[0m\n\u001b[1;32m     10\u001b[0m     \u001b[39m\"\"\"Raised when the input value is too large\"\"\"\u001b[39;00m\n\u001b[1;32m     11\u001b[0m     \u001b[39mpass\u001b[39;00m\n\u001b[0;32m---> 13\u001b[0m age \u001b[39m=\u001b[39m \u001b[39mint\u001b[39m(\u001b[39minput\u001b[39m(\u001b[39m\"\u001b[39m\u001b[39mPlease enter your age: \u001b[39m\u001b[39m\"\u001b[39m))\n\u001b[1;32m     15\u001b[0m \u001b[39mif\u001b[39;00m age \u001b[39m<\u001b[39m \u001b[39m1\u001b[39m \u001b[39mor\u001b[39;00m age \u001b[39m>\u001b[39m \u001b[39m115\u001b[39m:\n\u001b[1;32m     16\u001b[0m     \u001b[39mprint\u001b[39m (\u001b[39m'\u001b[39m\u001b[39mInvalid value\u001b[39m\u001b[39m'\u001b[39m)\n",
      "\u001b[0;31mValueError\u001b[0m: invalid literal for int() with base 10: ''"
     ]
    }
   ],
   "source": [
    "# creating an exceptions class\n",
    "class AgeOutOfRange(Exception):\n",
    "    \"\"\"Raised when the input value is either too small or too big\"\"\"\n",
    "    pass\n",
    "\n",
    "\n",
    "while True:\n",
    "    try: \n",
    "        age = input(\"Pleas enter your age: \")\n",
    "        age = int(age)\n",
    "        if age < 1 or age > 115:\n",
    "            raise AgeOutOfRange(f\"Age must be between 1 and 115: {age}\")\n",
    "        break\n",
    "    except ValueError:\n",
    "        print(\"No valid integer! Try again\")\n",
    "\n",
    "print(\"Great, you entered an integer\")"
   ]
  }
 ],
 "metadata": {
  "kernelspec": {
   "display_name": "Python 3",
   "language": "python",
   "name": "python3"
  },
  "language_info": {
   "codemirror_mode": {
    "name": "ipython",
    "version": 3
   },
   "file_extension": ".py",
   "mimetype": "text/x-python",
   "name": "python",
   "nbconvert_exporter": "python",
   "pygments_lexer": "ipython3",
   "version": "3.10.7 (v3.10.7:6cc6b13308, Sep  5 2022, 14:02:52) [Clang 13.0.0 (clang-1300.0.29.30)]"
  },
  "orig_nbformat": 4,
  "vscode": {
   "interpreter": {
    "hash": "aee8b7b246df8f9039afb4144a1f6fd8d2ca17a180786b69acc140d282b71a49"
   }
  }
 },
 "nbformat": 4,
 "nbformat_minor": 2
}
